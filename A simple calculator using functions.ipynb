{
 "cells": [
  {
   "cell_type": "markdown",
   "metadata": {},
   "source": [
    "## A simple calculator using functions\n",
    "\n",
    "1) Read code and discuss - ask questions!\n",
    "\n",
    "2) Comment code\n",
    "\n",
    "3) Extend the calculator with 5 more functions\n"
   ]
  },
  {
   "cell_type": "code",
   "execution_count": null,
   "metadata": {},
   "outputs": [
    {
     "name": "stdout",
     "output_type": "stream",
     "text": [
      "welcome to my calculator\n",
      "A)add numbers\n",
      "S)subtract numbers\n",
      "(*) multiply numbers\n",
      "(/) divide numbers\n",
      "choose your optionA\n",
      "your choice is A\n",
      "enter the first number6\n",
      "enter the second number5\n",
      "enter the first number5\n",
      "enter the second number6\n",
      "the answer from your calcaulation is=11\n",
      "A)add numbers\n",
      "S)subtract numbers\n",
      "(*) multiply numbers\n",
      "(/) divide numbers\n"
     ]
    }
   ],
   "source": [
    "def mainMenu():\n",
    "    validChoices = [\"A\",\"*\", \"S\",\"/\"]\n",
    "    valid = False\n",
    "    while not valid:\n",
    "        print(\"A)add numbers\")\n",
    "        print(\"S)subtract numbers\")\n",
    "        print(\"(*) multiply numbers\")\n",
    "        print(\"(/) divide numbers\")\n",
    "        choice = input(\"choose your option\").upper()\n",
    "        if choice not in validChoices:\n",
    "            print(\"sorry that is not a valid menu choice \")\n",
    "        else:\n",
    "            print(\"your choice is\",choice)\n",
    "            valid= True\n",
    "            \n",
    "    return choice\n",
    "    \n",
    "\n",
    "def enterNumber():\n",
    "    valid = False\n",
    "    while not valid:\n",
    "        try:\n",
    "            x=int(input(\"enter the first number\"))\n",
    "            y=int(input(\"enter the second number\"))\n",
    "            valid=True\n",
    "        except ValueError:\n",
    "            print(\"That was not a valid number.. please try again\")\n",
    "    \n",
    "    return x\n",
    "\n",
    "def add(x,y):\n",
    "    \n",
    "    return x+y\n",
    "\n",
    "def subtract(x,y):\n",
    "    \n",
    "    return x-y\n",
    "\n",
    "def multiply(x,y):\n",
    "    \n",
    "\n",
    "    return x*y\n",
    "\n",
    "def divide(x,y):\n",
    "    \n",
    "    return x/y\n",
    "#main program starts here\n",
    "print(\"welcome to my calculator\")\n",
    "again = \"y\"\n",
    "while again == \"y\":\n",
    "    \n",
    "    userChoice = mainMenu()\n",
    "    if userChoice == \"A\":\n",
    "        answer = add(enterNumber(), enterNumber())\n",
    "    elif userChoice == \"S\":\n",
    "        answer = subtract(enterNumber(), enterNumber())\n",
    "    elif userChoice == \"*\":\n",
    "        answer = multiply(enterNumber(), enterNumber())\n",
    "    elif userChoice == \"/\":\n",
    "        answer = divide(enterNumber(), enterNumber())\n",
    "    else:\n",
    "        print(\"error - we should never get here\")\n",
    "    \n",
    "    print(\"the answer from your calcaulation is=\"+str(answer))\n",
    "    "
   ]
  }
 ],
 "metadata": {
  "kernelspec": {
   "display_name": "Python 3",
   "language": "python",
   "name": "python3"
  },
  "language_info": {
   "codemirror_mode": {
    "name": "ipython",
    "version": 3
   },
   "file_extension": ".py",
   "mimetype": "text/x-python",
   "name": "python",
   "nbconvert_exporter": "python",
   "pygments_lexer": "ipython3",
   "version": "3.6.5"
  }
 },
 "nbformat": 4,
 "nbformat_minor": 2
}
